{
 "cells": [
  {
   "cell_type": "code",
   "execution_count": null,
   "id": "db438312",
   "metadata": {
    "scrolled": false
   },
   "outputs": [],
   "source": [
    "import numpy as np\n",
    "import pandas as pd\n",
    "import cv2\n",
    "import PIL\n",
    "import pytesseract"
   ]
  },
  {
   "cell_type": "code",
   "execution_count": null,
   "id": "9697ad43",
   "metadata": {},
   "outputs": [],
   "source": [
    "# Loading using cv2\n",
    "\n",
    "img_cv = cv2.imread('./Selected/052.jpeg') \n",
    "\n",
    "cv2.imshow('Business card',img_cv)\n",
    "cv2.waitKey(0)\n",
    "cv2.destroyAllWindows()"
   ]
  },
  {
   "cell_type": "code",
   "execution_count": null,
   "id": "77f04185",
   "metadata": {},
   "outputs": [],
   "source": [
    "# Loading using PIL\n",
    "\n",
    "img_pl = PIL.Image.open('./Selected/052.jpeg') "
   ]
  },
  {
   "cell_type": "code",
   "execution_count": null,
   "id": "810cb42f",
   "metadata": {},
   "outputs": [],
   "source": [
    "img_pl"
   ]
  },
  {
   "cell_type": "code",
   "execution_count": null,
   "id": "67cf2d37",
   "metadata": {},
   "outputs": [],
   "source": [
    "type(img_pl)"
   ]
  },
  {
   "cell_type": "code",
   "execution_count": null,
   "id": "35fd55d1",
   "metadata": {},
   "outputs": [],
   "source": [
    "### Extract Text from Image from cv2\n",
    "\n",
    "text_cv = pytesseract.image_to_string(img_cv)"
   ]
  },
  {
   "cell_type": "code",
   "execution_count": null,
   "id": "8f8412ac",
   "metadata": {},
   "outputs": [],
   "source": [
    "print(text_cv)"
   ]
  },
  {
   "cell_type": "code",
   "execution_count": null,
   "id": "52bbb90b",
   "metadata": {},
   "outputs": [],
   "source": [
    "text_pl = pytesseract.image_to_string(img_pl)"
   ]
  },
  {
   "cell_type": "code",
   "execution_count": null,
   "id": "decb0219",
   "metadata": {},
   "outputs": [],
   "source": [
    "print(text_pl)"
   ]
  },
  {
   "cell_type": "code",
   "execution_count": null,
   "id": "485f9343",
   "metadata": {},
   "outputs": [],
   "source": []
  }
 ],
 "metadata": {
  "kernelspec": {
   "display_name": "Python 3 (ipykernel)",
   "language": "python",
   "name": "python3"
  },
  "language_info": {
   "codemirror_mode": {
    "name": "ipython",
    "version": 3
   },
   "file_extension": ".py",
   "mimetype": "text/x-python",
   "name": "python",
   "nbconvert_exporter": "python",
   "pygments_lexer": "ipython3",
   "version": "3.11.5"
  }
 },
 "nbformat": 4,
 "nbformat_minor": 5
}
