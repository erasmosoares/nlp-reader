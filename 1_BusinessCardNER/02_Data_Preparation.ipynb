{
 "cells": [
  {
   "cell_type": "code",
   "execution_count": 1,
   "metadata": {},
   "outputs": [],
   "source": [
    "# Extract Text from all Businness Cards\n",
    "import numpy as np\n",
    "import pandas as pd\n",
    "import pytesseract\n",
    "import cv2\n",
    "import os\n",
    "\n",
    "from glob import glob\n",
    "from tqdm import tqdm\n",
    "import warnings\n",
    "\n",
    "warnings.filterwarnings('ignore')"
   ]
  },
  {
   "cell_type": "code",
   "execution_count": 2,
   "metadata": {},
   "outputs": [],
   "source": [
    "imPaths = glob('./Selected/*.jpeg')"
   ]
  },
  {
   "cell_type": "code",
   "execution_count": 3,
   "metadata": {},
   "outputs": [
    {
     "name": "stderr",
     "output_type": "stream",
     "text": [
      "BusinessCard: 100%|██████████| 293/293 [03:35<00:00,  1.36it/s]\n"
     ]
    }
   ],
   "source": [
    "allBusinessCard = pd.DataFrame(columns=['id','text'])    \n",
    "\n",
    "for imgPath in tqdm(imPaths,desc='BusinessCard'):\n",
    "\n",
    "    imgPath = imPaths[0]\n",
    "    #print(imgPath)\n",
    "\n",
    "    #extract filename\n",
    "    _, filename = os.path.split(imgPath)\n",
    "    #print(filename)\n",
    "\n",
    "    #extract data and text\n",
    "    image = cv2.imread(imgPath)\n",
    "    data = pytesseract.image_to_data(image)\n",
    "\n",
    "    #dataframe\n",
    "    dataList = list(map(lambda x: x.split('\\t'),data.split('\\n')))\n",
    "    df = pd.DataFrame(dataList[1:],columns=dataList[0])\n",
    "    df.dropna(inplace=True)\n",
    "    #df['conf'] = df['conf'].astype(int)\n",
    "\n",
    "    useFulData = df#.query('conf >= 30')\n",
    "\n",
    "    #dataframe\n",
    "    businessCard = pd.DataFrame()\n",
    "    businessCard['text'] = useFulData['text']\n",
    "    businessCard['id'] = filename\n",
    "\n",
    "    #Concatenation\n",
    "    allBusinessCard =pd.concat((allBusinessCard,businessCard))"
   ]
  },
  {
   "cell_type": "code",
   "execution_count": 4,
   "metadata": {},
   "outputs": [],
   "source": [
    "#businessCard\n",
    "businessCard.to_csv('businessCard.csv',index=False)"
   ]
  }
 ],
 "metadata": {
  "kernelspec": {
   "display_name": "docuscan",
   "language": "python",
   "name": "python3"
  },
  "language_info": {
   "codemirror_mode": {
    "name": "ipython",
    "version": 3
   },
   "file_extension": ".py",
   "mimetype": "text/x-python",
   "name": "python",
   "nbconvert_exporter": "python",
   "pygments_lexer": "ipython3",
   "version": "3.11.5"
  },
  "orig_nbformat": 4
 },
 "nbformat": 4,
 "nbformat_minor": 2
}
